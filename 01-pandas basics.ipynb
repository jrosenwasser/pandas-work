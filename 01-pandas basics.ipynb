{
 "cells": [
  {
   "cell_type": "markdown",
   "id": "c8e1cb81-6b9e-4e41-abfb-03bb410afbd9",
   "metadata": {},
   "source": [
    "# Pandas basics"
   ]
  },
  {
   "cell_type": "code",
   "execution_count": 1,
   "id": "c2727f7f-9abf-4a76-b629-4d242065048d",
   "metadata": {},
   "outputs": [
    {
     "name": "stdout",
     "output_type": "stream",
     "text": [
      "01-pandas basics.ipynb continent_facts.csv    countries.csv\n"
     ]
    }
   ],
   "source": [
    "!ls"
   ]
  },
  {
   "cell_type": "code",
   "execution_count": 2,
   "id": "77bb0282-8339-4a7c-a65a-9a9e41197d06",
   "metadata": {},
   "outputs": [
    {
     "name": "stdout",
     "output_type": "stream",
     "text": [
      "/Users/jakerosenwasser/Desktop/06-classwork\n"
     ]
    }
   ],
   "source": [
    "!pwd"
   ]
  },
  {
   "cell_type": "code",
   "execution_count": 3,
   "id": "d709c7d2-3ab3-443f-8692-8b8c61a73546",
   "metadata": {},
   "outputs": [
    {
     "name": "stdout",
     "output_type": "stream",
     "text": [
      "Note: you may need to restart the kernel to use updated packages.\n"
     ]
    }
   ],
   "source": [
    "%pip install --quiet pandas"
   ]
  },
  {
   "cell_type": "code",
   "execution_count": 4,
   "id": "88ba71c1-0854-4115-b9dd-9b780cd3d092",
   "metadata": {},
   "outputs": [
    {
     "name": "stdout",
     "output_type": "stream",
     "text": [
      "Requirement already satisfied: pandas in /Users/jakerosenwasser/.pyenv/versions/3.11.8/lib/python3.11/site-packages (2.2.2)\n",
      "Requirement already satisfied: numpy>=1.23.2 in /Users/jakerosenwasser/.pyenv/versions/3.11.8/lib/python3.11/site-packages (from pandas) (1.26.4)\n",
      "Requirement already satisfied: python-dateutil>=2.8.2 in /Users/jakerosenwasser/.pyenv/versions/3.11.8/lib/python3.11/site-packages (from pandas) (2.9.0.post0)\n",
      "Requirement already satisfied: pytz>=2020.1 in /Users/jakerosenwasser/.pyenv/versions/3.11.8/lib/python3.11/site-packages (from pandas) (2024.1)\n",
      "Requirement already satisfied: tzdata>=2022.7 in /Users/jakerosenwasser/.pyenv/versions/3.11.8/lib/python3.11/site-packages (from pandas) (2024.1)\n",
      "Requirement already satisfied: six>=1.5 in /Users/jakerosenwasser/.pyenv/versions/3.11.8/lib/python3.11/site-packages (from python-dateutil>=2.8.2->pandas) (1.16.0)\n"
     ]
    }
   ],
   "source": [
    "!pip install pandas"
   ]
  },
  {
   "cell_type": "code",
   "execution_count": 5,
   "id": "73d5630b-8ddb-49d4-8f93-009f8a2ea4b1",
   "metadata": {},
   "outputs": [
    {
     "name": "stdout",
     "output_type": "stream",
     "text": [
      "\n",
      "Usage:   \n",
      "  /Users/jakerosenwasser/.pyenv/versions/3.11.8/bin/python3.11 -m pip <command> [options]\n",
      "\n",
      "Commands:\n",
      "  install                     Install packages.\n",
      "  download                    Download packages.\n",
      "  uninstall                   Uninstall packages.\n",
      "  freeze                      Output installed packages in requirements format.\n",
      "  inspect                     Inspect the python environment.\n",
      "  list                        List installed packages.\n",
      "  show                        Show information about installed packages.\n",
      "  check                       Verify installed packages have compatible dependencies.\n",
      "  config                      Manage local and global configuration.\n",
      "  search                      Search PyPI for packages.\n",
      "  cache                       Inspect and manage pip's wheel cache.\n",
      "  index                       Inspect information available from package indexes.\n",
      "  wheel                       Build wheels from your requirements.\n",
      "  hash                        Compute hashes of package archives.\n",
      "  completion                  A helper command used for command completion.\n",
      "  debug                       Show information useful for debugging.\n",
      "  help                        Show help for commands.\n",
      "\n",
      "General Options:\n",
      "  -h, --help                  Show help.\n",
      "  --debug                     Let unhandled exceptions propagate outside the\n",
      "                              main subroutine, instead of logging them to\n",
      "                              stderr.\n",
      "  --isolated                  Run pip in an isolated mode, ignoring\n",
      "                              environment variables and user configuration.\n",
      "  --require-virtualenv        Allow pip to only run in a virtual environment;\n",
      "                              exit with an error otherwise.\n",
      "  --python <python>           Run pip with the specified Python interpreter.\n",
      "  -v, --verbose               Give more output. Option is additive, and can be\n",
      "                              used up to 3 times.\n",
      "  -V, --version               Show version and exit.\n",
      "  -q, --quiet                 Give less output. Option is additive, and can be\n",
      "                              used up to 3 times (corresponding to WARNING,\n",
      "                              ERROR, and CRITICAL logging levels).\n",
      "  --log <path>                Path to a verbose appending log.\n",
      "  --no-input                  Disable prompting for input.\n",
      "  --keyring-provider <keyring_provider>\n",
      "                              Enable the credential lookup via the keyring\n",
      "                              library if user input is allowed. Specify which\n",
      "                              mechanism to use [disabled, import, subprocess].\n",
      "                              (default: disabled)\n",
      "  --proxy <proxy>             Specify a proxy in the form\n",
      "                              scheme://[user:passwd@]proxy.server:port.\n",
      "  --retries <retries>         Maximum number of retries each connection should\n",
      "                              attempt (default 5 times).\n",
      "  --timeout <sec>             Set the socket timeout (default 15 seconds).\n",
      "  --exists-action <action>    Default action when a path already exists:\n",
      "                              (s)witch, (i)gnore, (w)ipe, (b)ackup, (a)bort.\n",
      "  --trusted-host <hostname>   Mark this host or host:port pair as trusted,\n",
      "                              even though it does not have valid or any HTTPS.\n",
      "  --cert <path>               Path to PEM-encoded CA certificate bundle. If\n",
      "                              provided, overrides the default. See 'SSL\n",
      "                              Certificate Verification' in pip documentation\n",
      "                              for more information.\n",
      "  --client-cert <path>        Path to SSL client certificate, a single file\n",
      "                              containing the private key and the certificate\n",
      "                              in PEM format.\n",
      "  --cache-dir <dir>           Store the cache data in <dir>.\n",
      "  --no-cache-dir              Disable the cache.\n",
      "  --disable-pip-version-check\n",
      "                              Don't periodically check PyPI to determine\n",
      "                              whether a new version of pip is available for\n",
      "                              download. Implied with --no-index.\n",
      "  --no-color                  Suppress colored output.\n",
      "  --no-python-version-warning\n",
      "                              Silence deprecation warnings for upcoming\n",
      "                              unsupported Pythons.\n",
      "  --use-feature <feature>     Enable new functionality, that may be backward\n",
      "                              incompatible.\n",
      "  --use-deprecated <feature>  Enable deprecated functionality, that will be\n",
      "                              removed in the future.\n",
      "Note: you may need to restart the kernel to use updated packages.\n"
     ]
    }
   ],
   "source": [
    " pip -- help"
   ]
  },
  {
   "cell_type": "code",
   "execution_count": 6,
   "id": "bb3b6ee1-53f9-402b-a592-61fb6e4bb92d",
   "metadata": {},
   "outputs": [],
   "source": [
    "import requests\n"
   ]
  },
  {
   "cell_type": "code",
   "execution_count": 7,
   "id": "25b86ea5-1e21-44ac-98de-39d3e61d0ebb",
   "metadata": {},
   "outputs": [],
   "source": [
    "import requests"
   ]
  },
  {
   "cell_type": "code",
   "execution_count": 8,
   "id": "607b4bec-3b10-45fd-96e4-871cb86a7f53",
   "metadata": {},
   "outputs": [],
   "source": [
    "import pandas"
   ]
  },
  {
   "cell_type": "code",
   "execution_count": 10,
   "id": "08bc4744-9b4f-4cf1-9745-30ee16c01072",
   "metadata": {},
   "outputs": [],
   "source": [
    "import pandas"
   ]
  },
  {
   "cell_type": "code",
   "execution_count": 11,
   "id": "33c1c802-bcaf-4bcb-b138-b825e8f82986",
   "metadata": {},
   "outputs": [],
   "source": [
    "import pandas as pd"
   ]
  },
  {
   "cell_type": "code",
   "execution_count": 13,
   "id": "4db350b8-e7df-4178-bcd3-646e389f766c",
   "metadata": {},
   "outputs": [],
   "source": [
    "df = pd.read_csv(\"countries.csv\")"
   ]
  },
  {
   "cell_type": "code",
   "execution_count": 14,
   "id": "03f92abe-1f31-4f04-8c6d-8ea399d680e0",
   "metadata": {},
   "outputs": [
    {
     "data": {
      "text/html": [
       "<div>\n",
       "<style scoped>\n",
       "    .dataframe tbody tr th:only-of-type {\n",
       "        vertical-align: middle;\n",
       "    }\n",
       "\n",
       "    .dataframe tbody tr th {\n",
       "        vertical-align: top;\n",
       "    }\n",
       "\n",
       "    .dataframe thead th {\n",
       "        text-align: right;\n",
       "    }\n",
       "</style>\n",
       "<table border=\"1\" class=\"dataframe\">\n",
       "  <thead>\n",
       "    <tr style=\"text-align: right;\">\n",
       "      <th></th>\n",
       "      <th>country</th>\n",
       "      <th>continent</th>\n",
       "      <th>life_expectancy</th>\n",
       "      <th>population</th>\n",
       "      <th>gdp</th>\n",
       "    </tr>\n",
       "  </thead>\n",
       "  <tbody>\n",
       "    <tr>\n",
       "      <th>0</th>\n",
       "      <td>Afghanistan</td>\n",
       "      <td>Asia</td>\n",
       "      <td>54.863</td>\n",
       "      <td>22856302</td>\n",
       "      <td>15153728226</td>\n",
       "    </tr>\n",
       "    <tr>\n",
       "      <th>1</th>\n",
       "      <td>Albania</td>\n",
       "      <td>Europe</td>\n",
       "      <td>74.200</td>\n",
       "      <td>3071856</td>\n",
       "      <td>12886435920</td>\n",
       "    </tr>\n",
       "    <tr>\n",
       "      <th>2</th>\n",
       "      <td>Algeria</td>\n",
       "      <td>Africa</td>\n",
       "      <td>68.963</td>\n",
       "      <td>30533827</td>\n",
       "      <td>155661450046</td>\n",
       "    </tr>\n",
       "    <tr>\n",
       "      <th>3</th>\n",
       "      <td>Angola</td>\n",
       "      <td>Africa</td>\n",
       "      <td>45.234</td>\n",
       "      <td>13926373</td>\n",
       "      <td>34063908358</td>\n",
       "    </tr>\n",
       "    <tr>\n",
       "      <th>4</th>\n",
       "      <td>Antigua and Barbuda</td>\n",
       "      <td>N. America</td>\n",
       "      <td>73.544</td>\n",
       "      <td>77656</td>\n",
       "      <td>989182128</td>\n",
       "    </tr>\n",
       "    <tr>\n",
       "      <th>...</th>\n",
       "      <td>...</td>\n",
       "      <td>...</td>\n",
       "      <td>...</td>\n",
       "      <td>...</td>\n",
       "      <td>...</td>\n",
       "    </tr>\n",
       "    <tr>\n",
       "      <th>183</th>\n",
       "      <td>Vietnam</td>\n",
       "      <td>Asia</td>\n",
       "      <td>73.777</td>\n",
       "      <td>78758010</td>\n",
       "      <td>124201381770</td>\n",
       "    </tr>\n",
       "    <tr>\n",
       "      <th>184</th>\n",
       "      <td>West Bank and Gaza</td>\n",
       "      <td>Asia</td>\n",
       "      <td>70.929</td>\n",
       "      <td>3198560</td>\n",
       "      <td>24264276160</td>\n",
       "    </tr>\n",
       "    <tr>\n",
       "      <th>185</th>\n",
       "      <td>Yemen, Rep.</td>\n",
       "      <td>Asia</td>\n",
       "      <td>60.404</td>\n",
       "      <td>17723186</td>\n",
       "      <td>39292303362</td>\n",
       "    </tr>\n",
       "    <tr>\n",
       "      <th>186</th>\n",
       "      <td>Zambia</td>\n",
       "      <td>Africa</td>\n",
       "      <td>41.802</td>\n",
       "      <td>10201562</td>\n",
       "      <td>10558616670</td>\n",
       "    </tr>\n",
       "    <tr>\n",
       "      <th>187</th>\n",
       "      <td>Zimbabwe</td>\n",
       "      <td>Africa</td>\n",
       "      <td>43.976</td>\n",
       "      <td>12509477</td>\n",
       "      <td>9319560365</td>\n",
       "    </tr>\n",
       "  </tbody>\n",
       "</table>\n",
       "<p>188 rows × 5 columns</p>\n",
       "</div>"
      ],
      "text/plain": [
       "                 country   continent  life_expectancy  population  \\\n",
       "0            Afghanistan        Asia           54.863    22856302   \n",
       "1                Albania      Europe           74.200     3071856   \n",
       "2                Algeria      Africa           68.963    30533827   \n",
       "3                 Angola      Africa           45.234    13926373   \n",
       "4    Antigua and Barbuda  N. America           73.544       77656   \n",
       "..                   ...         ...              ...         ...   \n",
       "183              Vietnam        Asia           73.777    78758010   \n",
       "184   West Bank and Gaza        Asia           70.929     3198560   \n",
       "185          Yemen, Rep.        Asia           60.404    17723186   \n",
       "186               Zambia      Africa           41.802    10201562   \n",
       "187             Zimbabwe      Africa           43.976    12509477   \n",
       "\n",
       "              gdp  \n",
       "0     15153728226  \n",
       "1     12886435920  \n",
       "2    155661450046  \n",
       "3     34063908358  \n",
       "4       989182128  \n",
       "..            ...  \n",
       "183  124201381770  \n",
       "184   24264276160  \n",
       "185   39292303362  \n",
       "186   10558616670  \n",
       "187    9319560365  \n",
       "\n",
       "[188 rows x 5 columns]"
      ]
     },
     "execution_count": 14,
     "metadata": {},
     "output_type": "execute_result"
    }
   ],
   "source": [
    "df"
   ]
  },
  {
   "cell_type": "code",
   "execution_count": 15,
   "id": "356c7f29-6a96-4874-b626-251b467955ed",
   "metadata": {},
   "outputs": [
    {
     "data": {
      "text/html": [
       "<div>\n",
       "<style scoped>\n",
       "    .dataframe tbody tr th:only-of-type {\n",
       "        vertical-align: middle;\n",
       "    }\n",
       "\n",
       "    .dataframe tbody tr th {\n",
       "        vertical-align: top;\n",
       "    }\n",
       "\n",
       "    .dataframe thead th {\n",
       "        text-align: right;\n",
       "    }\n",
       "</style>\n",
       "<table border=\"1\" class=\"dataframe\">\n",
       "  <thead>\n",
       "    <tr style=\"text-align: right;\">\n",
       "      <th></th>\n",
       "      <th>country</th>\n",
       "      <th>continent</th>\n",
       "      <th>life_expectancy</th>\n",
       "      <th>population</th>\n",
       "      <th>gdp</th>\n",
       "    </tr>\n",
       "  </thead>\n",
       "  <tbody>\n",
       "    <tr>\n",
       "      <th>0</th>\n",
       "      <td>Afghanistan</td>\n",
       "      <td>Asia</td>\n",
       "      <td>54.863</td>\n",
       "      <td>22856302</td>\n",
       "      <td>15153728226</td>\n",
       "    </tr>\n",
       "    <tr>\n",
       "      <th>1</th>\n",
       "      <td>Albania</td>\n",
       "      <td>Europe</td>\n",
       "      <td>74.200</td>\n",
       "      <td>3071856</td>\n",
       "      <td>12886435920</td>\n",
       "    </tr>\n",
       "    <tr>\n",
       "      <th>2</th>\n",
       "      <td>Algeria</td>\n",
       "      <td>Africa</td>\n",
       "      <td>68.963</td>\n",
       "      <td>30533827</td>\n",
       "      <td>155661450046</td>\n",
       "    </tr>\n",
       "    <tr>\n",
       "      <th>3</th>\n",
       "      <td>Angola</td>\n",
       "      <td>Africa</td>\n",
       "      <td>45.234</td>\n",
       "      <td>13926373</td>\n",
       "      <td>34063908358</td>\n",
       "    </tr>\n",
       "    <tr>\n",
       "      <th>4</th>\n",
       "      <td>Antigua and Barbuda</td>\n",
       "      <td>N. America</td>\n",
       "      <td>73.544</td>\n",
       "      <td>77656</td>\n",
       "      <td>989182128</td>\n",
       "    </tr>\n",
       "  </tbody>\n",
       "</table>\n",
       "</div>"
      ],
      "text/plain": [
       "               country   continent  life_expectancy  population           gdp\n",
       "0          Afghanistan        Asia           54.863    22856302   15153728226\n",
       "1              Albania      Europe           74.200     3071856   12886435920\n",
       "2              Algeria      Africa           68.963    30533827  155661450046\n",
       "3               Angola      Africa           45.234    13926373   34063908358\n",
       "4  Antigua and Barbuda  N. America           73.544       77656     989182128"
      ]
     },
     "execution_count": 15,
     "metadata": {},
     "output_type": "execute_result"
    }
   ],
   "source": [
    "df.head()"
   ]
  },
  {
   "cell_type": "code",
   "execution_count": null,
   "id": "d9df1430-6463-4766-bbec-93c1b3dbc793",
   "metadata": {},
   "outputs": [],
   "source": []
  },
  {
   "cell_type": "code",
   "execution_count": null,
   "id": "84597c99-1fa5-465c-a80d-50c16c13d05e",
   "metadata": {},
   "outputs": [],
   "source": []
  },
  {
   "cell_type": "code",
   "execution_count": null,
   "id": "4c158246-0186-4700-9770-8d86eec3ec97",
   "metadata": {},
   "outputs": [],
   "source": []
  },
  {
   "cell_type": "code",
   "execution_count": null,
   "id": "d259511f-851a-4a39-ad36-6c3e58586184",
   "metadata": {},
   "outputs": [],
   "source": []
  },
  {
   "cell_type": "code",
   "execution_count": null,
   "id": "5ada6814-7e49-4d51-9336-0f22364f1e3e",
   "metadata": {},
   "outputs": [],
   "source": []
  },
  {
   "cell_type": "code",
   "execution_count": null,
   "id": "070e5812-3070-4cf0-92d6-5ee48cc9e5b8",
   "metadata": {},
   "outputs": [],
   "source": []
  },
  {
   "cell_type": "code",
   "execution_count": 16,
   "id": "e5f71520-6473-48de-9e87-a35c4a81d1a7",
   "metadata": {},
   "outputs": [
    {
     "data": {
      "text/html": [
       "<div>\n",
       "<style scoped>\n",
       "    .dataframe tbody tr th:only-of-type {\n",
       "        vertical-align: middle;\n",
       "    }\n",
       "\n",
       "    .dataframe tbody tr th {\n",
       "        vertical-align: top;\n",
       "    }\n",
       "\n",
       "    .dataframe thead th {\n",
       "        text-align: right;\n",
       "    }\n",
       "</style>\n",
       "<table border=\"1\" class=\"dataframe\">\n",
       "  <thead>\n",
       "    <tr style=\"text-align: right;\">\n",
       "      <th></th>\n",
       "      <th>country</th>\n",
       "      <th>continent</th>\n",
       "      <th>life_expectancy</th>\n",
       "      <th>population</th>\n",
       "      <th>gdp</th>\n",
       "    </tr>\n",
       "  </thead>\n",
       "  <tbody>\n",
       "    <tr>\n",
       "      <th>183</th>\n",
       "      <td>Vietnam</td>\n",
       "      <td>Asia</td>\n",
       "      <td>73.777</td>\n",
       "      <td>78758010</td>\n",
       "      <td>124201381770</td>\n",
       "    </tr>\n",
       "    <tr>\n",
       "      <th>184</th>\n",
       "      <td>West Bank and Gaza</td>\n",
       "      <td>Asia</td>\n",
       "      <td>70.929</td>\n",
       "      <td>3198560</td>\n",
       "      <td>24264276160</td>\n",
       "    </tr>\n",
       "    <tr>\n",
       "      <th>185</th>\n",
       "      <td>Yemen, Rep.</td>\n",
       "      <td>Asia</td>\n",
       "      <td>60.404</td>\n",
       "      <td>17723186</td>\n",
       "      <td>39292303362</td>\n",
       "    </tr>\n",
       "    <tr>\n",
       "      <th>186</th>\n",
       "      <td>Zambia</td>\n",
       "      <td>Africa</td>\n",
       "      <td>41.802</td>\n",
       "      <td>10201562</td>\n",
       "      <td>10558616670</td>\n",
       "    </tr>\n",
       "    <tr>\n",
       "      <th>187</th>\n",
       "      <td>Zimbabwe</td>\n",
       "      <td>Africa</td>\n",
       "      <td>43.976</td>\n",
       "      <td>12509477</td>\n",
       "      <td>9319560365</td>\n",
       "    </tr>\n",
       "  </tbody>\n",
       "</table>\n",
       "</div>"
      ],
      "text/plain": [
       "                country continent  life_expectancy  population           gdp\n",
       "183             Vietnam      Asia           73.777    78758010  124201381770\n",
       "184  West Bank and Gaza      Asia           70.929     3198560   24264276160\n",
       "185         Yemen, Rep.      Asia           60.404    17723186   39292303362\n",
       "186              Zambia    Africa           41.802    10201562   10558616670\n",
       "187            Zimbabwe    Africa           43.976    12509477    9319560365"
      ]
     },
     "execution_count": 16,
     "metadata": {},
     "output_type": "execute_result"
    }
   ],
   "source": []
  },
  {
   "cell_type": "code",
   "execution_count": 22,
   "id": "2acb3f89-6d7b-49d4-9d76-b22915bdfce6",
   "metadata": {},
   "outputs": [
    {
     "data": {
      "text/html": [
       "<div>\n",
       "<style scoped>\n",
       "    .dataframe tbody tr th:only-of-type {\n",
       "        vertical-align: middle;\n",
       "    }\n",
       "\n",
       "    .dataframe tbody tr th {\n",
       "        vertical-align: top;\n",
       "    }\n",
       "\n",
       "    .dataframe thead th {\n",
       "        text-align: right;\n",
       "    }\n",
       "</style>\n",
       "<table border=\"1\" class=\"dataframe\">\n",
       "  <thead>\n",
       "    <tr style=\"text-align: right;\">\n",
       "      <th></th>\n",
       "      <th>country</th>\n",
       "      <th>continent</th>\n",
       "      <th>life_expectancy</th>\n",
       "      <th>population</th>\n",
       "      <th>gdp</th>\n",
       "    </tr>\n",
       "  </thead>\n",
       "  <tbody>\n",
       "    <tr>\n",
       "      <th>147</th>\n",
       "      <td>Sierra Leone</td>\n",
       "      <td>Africa</td>\n",
       "      <td>38.123</td>\n",
       "      <td>4143115</td>\n",
       "      <td>2141990455</td>\n",
       "    </tr>\n",
       "    <tr>\n",
       "      <th>186</th>\n",
       "      <td>Zambia</td>\n",
       "      <td>Africa</td>\n",
       "      <td>41.802</td>\n",
       "      <td>10201562</td>\n",
       "      <td>10558616670</td>\n",
       "    </tr>\n",
       "    <tr>\n",
       "      <th>31</th>\n",
       "      <td>Central African Rep.</td>\n",
       "      <td>Africa</td>\n",
       "      <td>43.727</td>\n",
       "      <td>3701607</td>\n",
       "      <td>2820624534</td>\n",
       "    </tr>\n",
       "    <tr>\n",
       "      <th>187</th>\n",
       "      <td>Zimbabwe</td>\n",
       "      <td>Africa</td>\n",
       "      <td>43.976</td>\n",
       "      <td>12509477</td>\n",
       "      <td>9319560365</td>\n",
       "    </tr>\n",
       "    <tr>\n",
       "      <th>3</th>\n",
       "      <td>Angola</td>\n",
       "      <td>Africa</td>\n",
       "      <td>45.234</td>\n",
       "      <td>13926373</td>\n",
       "      <td>34063908358</td>\n",
       "    </tr>\n",
       "    <tr>\n",
       "      <th>...</th>\n",
       "      <td>...</td>\n",
       "      <td>...</td>\n",
       "      <td>...</td>\n",
       "      <td>...</td>\n",
       "      <td>...</td>\n",
       "    </tr>\n",
       "    <tr>\n",
       "      <th>160</th>\n",
       "      <td>Sweden</td>\n",
       "      <td>Europe</td>\n",
       "      <td>79.840</td>\n",
       "      <td>8860153</td>\n",
       "      <td>253754781920</td>\n",
       "    </tr>\n",
       "    <tr>\n",
       "      <th>7</th>\n",
       "      <td>Australia</td>\n",
       "      <td>Oceania</td>\n",
       "      <td>79.930</td>\n",
       "      <td>19164351</td>\n",
       "      <td>560384787591</td>\n",
       "    </tr>\n",
       "    <tr>\n",
       "      <th>161</th>\n",
       "      <td>Switzerland</td>\n",
       "      <td>Europe</td>\n",
       "      <td>79.990</td>\n",
       "      <td>7167908</td>\n",
       "      <td>246475684488</td>\n",
       "    </tr>\n",
       "    <tr>\n",
       "      <th>72</th>\n",
       "      <td>Hong Kong, China</td>\n",
       "      <td>Asia</td>\n",
       "      <td>80.361</td>\n",
       "      <td>6783317</td>\n",
       "      <td>203309577124</td>\n",
       "    </tr>\n",
       "    <tr>\n",
       "      <th>83</th>\n",
       "      <td>Japan</td>\n",
       "      <td>Asia</td>\n",
       "      <td>81.350</td>\n",
       "      <td>125720310</td>\n",
       "      <td>3590446333290</td>\n",
       "    </tr>\n",
       "  </tbody>\n",
       "</table>\n",
       "<p>188 rows × 5 columns</p>\n",
       "</div>"
      ],
      "text/plain": [
       "                  country continent  life_expectancy  population  \\\n",
       "147          Sierra Leone    Africa           38.123     4143115   \n",
       "186                Zambia    Africa           41.802    10201562   \n",
       "31   Central African Rep.    Africa           43.727     3701607   \n",
       "187              Zimbabwe    Africa           43.976    12509477   \n",
       "3                  Angola    Africa           45.234    13926373   \n",
       "..                    ...       ...              ...         ...   \n",
       "160                Sweden    Europe           79.840     8860153   \n",
       "7               Australia   Oceania           79.930    19164351   \n",
       "161           Switzerland    Europe           79.990     7167908   \n",
       "72       Hong Kong, China      Asia           80.361     6783317   \n",
       "83                  Japan      Asia           81.350   125720310   \n",
       "\n",
       "               gdp  \n",
       "147     2141990455  \n",
       "186    10558616670  \n",
       "31      2820624534  \n",
       "187     9319560365  \n",
       "3      34063908358  \n",
       "..             ...  \n",
       "160   253754781920  \n",
       "7     560384787591  \n",
       "161   246475684488  \n",
       "72    203309577124  \n",
       "83   3590446333290  \n",
       "\n",
       "[188 rows x 5 columns]"
      ]
     },
     "execution_count": 22,
     "metadata": {},
     "output_type": "execute_result"
    }
   ],
   "source": [
    "df.sort_values('life_expectancy')"
   ]
  },
  {
   "cell_type": "code",
   "execution_count": 27,
   "id": "144d34c9-54d9-4fbe-95f7-b5918428b194",
   "metadata": {},
   "outputs": [
    {
     "data": {
      "text/html": [
       "<div>\n",
       "<style scoped>\n",
       "    .dataframe tbody tr th:only-of-type {\n",
       "        vertical-align: middle;\n",
       "    }\n",
       "\n",
       "    .dataframe tbody tr th {\n",
       "        vertical-align: top;\n",
       "    }\n",
       "\n",
       "    .dataframe thead th {\n",
       "        text-align: right;\n",
       "    }\n",
       "</style>\n",
       "<table border=\"1\" class=\"dataframe\">\n",
       "  <thead>\n",
       "    <tr style=\"text-align: right;\">\n",
       "      <th></th>\n",
       "      <th>country</th>\n",
       "      <th>continent</th>\n",
       "      <th>life_expectancy</th>\n",
       "      <th>population</th>\n",
       "      <th>gdp</th>\n",
       "    </tr>\n",
       "  </thead>\n",
       "  <tbody>\n",
       "    <tr>\n",
       "      <th>83</th>\n",
       "      <td>Japan</td>\n",
       "      <td>Asia</td>\n",
       "      <td>81.350</td>\n",
       "      <td>125720310</td>\n",
       "      <td>3590446333290</td>\n",
       "    </tr>\n",
       "    <tr>\n",
       "      <th>72</th>\n",
       "      <td>Hong Kong, China</td>\n",
       "      <td>Asia</td>\n",
       "      <td>80.361</td>\n",
       "      <td>6783317</td>\n",
       "      <td>203309577124</td>\n",
       "    </tr>\n",
       "    <tr>\n",
       "      <th>161</th>\n",
       "      <td>Switzerland</td>\n",
       "      <td>Europe</td>\n",
       "      <td>79.990</td>\n",
       "      <td>7167908</td>\n",
       "      <td>246475684488</td>\n",
       "    </tr>\n",
       "    <tr>\n",
       "      <th>7</th>\n",
       "      <td>Australia</td>\n",
       "      <td>Oceania</td>\n",
       "      <td>79.930</td>\n",
       "      <td>19164351</td>\n",
       "      <td>560384787591</td>\n",
       "    </tr>\n",
       "    <tr>\n",
       "      <th>160</th>\n",
       "      <td>Sweden</td>\n",
       "      <td>Europe</td>\n",
       "      <td>79.840</td>\n",
       "      <td>8860153</td>\n",
       "      <td>253754781920</td>\n",
       "    </tr>\n",
       "    <tr>\n",
       "      <th>81</th>\n",
       "      <td>Italy</td>\n",
       "      <td>Europe</td>\n",
       "      <td>79.730</td>\n",
       "      <td>56986329</td>\n",
       "      <td>1547748695640</td>\n",
       "    </tr>\n",
       "    <tr>\n",
       "      <th>74</th>\n",
       "      <td>Iceland</td>\n",
       "      <td>Europe</td>\n",
       "      <td>79.720</td>\n",
       "      <td>281210</td>\n",
       "      <td>8743381320</td>\n",
       "    </tr>\n",
       "    <tr>\n",
       "      <th>29</th>\n",
       "      <td>Canada</td>\n",
       "      <td>N. America</td>\n",
       "      <td>79.410</td>\n",
       "      <td>30667365</td>\n",
       "      <td>995094659520</td>\n",
       "    </tr>\n",
       "    <tr>\n",
       "      <th>155</th>\n",
       "      <td>Spain</td>\n",
       "      <td>Europe</td>\n",
       "      <td>79.340</td>\n",
       "      <td>40288457</td>\n",
       "      <td>943152778370</td>\n",
       "    </tr>\n",
       "    <tr>\n",
       "      <th>57</th>\n",
       "      <td>France</td>\n",
       "      <td>Europe</td>\n",
       "      <td>79.230</td>\n",
       "      <td>59047795</td>\n",
       "      <td>1690892657620</td>\n",
       "    </tr>\n",
       "  </tbody>\n",
       "</table>\n",
       "</div>"
      ],
      "text/plain": [
       "              country   continent  life_expectancy  population            gdp\n",
       "83              Japan        Asia           81.350   125720310  3590446333290\n",
       "72   Hong Kong, China        Asia           80.361     6783317   203309577124\n",
       "161       Switzerland      Europe           79.990     7167908   246475684488\n",
       "7           Australia     Oceania           79.930    19164351   560384787591\n",
       "160            Sweden      Europe           79.840     8860153   253754781920\n",
       "81              Italy      Europe           79.730    56986329  1547748695640\n",
       "74            Iceland      Europe           79.720      281210     8743381320\n",
       "29             Canada  N. America           79.410    30667365   995094659520\n",
       "155             Spain      Europe           79.340    40288457   943152778370\n",
       "57             France      Europe           79.230    59047795  1690892657620"
      ]
     },
     "execution_count": 27,
     "metadata": {},
     "output_type": "execute_result"
    }
   ],
   "source": [
    "df.sort_values('life_expectancy', ascending=False).head(10)"
   ]
  },
  {
   "cell_type": "code",
   "execution_count": 26,
   "id": "9ee374fd-b7c7-4c7f-8d3d-27216b8983d0",
   "metadata": {},
   "outputs": [
    {
     "data": {
      "text/plain": [
       "(0              Afghanistan\n",
       " 1                  Albania\n",
       " 2                  Algeria\n",
       " 3                   Angola\n",
       " 4      Antigua and Barbuda\n",
       "               ...         \n",
       " 183                Vietnam\n",
       " 184     West Bank and Gaza\n",
       " 185            Yemen, Rep.\n",
       " 186                 Zambia\n",
       " 187               Zimbabwe\n",
       " Name: country, Length: 188, dtype: object,\n",
       " ['life_expectancy'])"
      ]
     },
     "execution_count": 26,
     "metadata": {},
     "output_type": "execute_result"
    }
   ],
   "source": [
    "df['country'], ['life_expectancy']"
   ]
  },
  {
   "cell_type": "code",
   "execution_count": 28,
   "id": "a7174433-843f-428e-90cb-c568bafb6b67",
   "metadata": {},
   "outputs": [
    {
     "data": {
      "text/html": [
       "<div>\n",
       "<style scoped>\n",
       "    .dataframe tbody tr th:only-of-type {\n",
       "        vertical-align: middle;\n",
       "    }\n",
       "\n",
       "    .dataframe tbody tr th {\n",
       "        vertical-align: top;\n",
       "    }\n",
       "\n",
       "    .dataframe thead th {\n",
       "        text-align: right;\n",
       "    }\n",
       "</style>\n",
       "<table border=\"1\" class=\"dataframe\">\n",
       "  <thead>\n",
       "    <tr style=\"text-align: right;\">\n",
       "      <th></th>\n",
       "      <th>life_expectancy</th>\n",
       "      <th>country</th>\n",
       "    </tr>\n",
       "  </thead>\n",
       "  <tbody>\n",
       "    <tr>\n",
       "      <th>0</th>\n",
       "      <td>54.863</td>\n",
       "      <td>Afghanistan</td>\n",
       "    </tr>\n",
       "    <tr>\n",
       "      <th>1</th>\n",
       "      <td>74.200</td>\n",
       "      <td>Albania</td>\n",
       "    </tr>\n",
       "    <tr>\n",
       "      <th>2</th>\n",
       "      <td>68.963</td>\n",
       "      <td>Algeria</td>\n",
       "    </tr>\n",
       "    <tr>\n",
       "      <th>3</th>\n",
       "      <td>45.234</td>\n",
       "      <td>Angola</td>\n",
       "    </tr>\n",
       "    <tr>\n",
       "      <th>4</th>\n",
       "      <td>73.544</td>\n",
       "      <td>Antigua and Barbuda</td>\n",
       "    </tr>\n",
       "    <tr>\n",
       "      <th>...</th>\n",
       "      <td>...</td>\n",
       "      <td>...</td>\n",
       "    </tr>\n",
       "    <tr>\n",
       "      <th>183</th>\n",
       "      <td>73.777</td>\n",
       "      <td>Vietnam</td>\n",
       "    </tr>\n",
       "    <tr>\n",
       "      <th>184</th>\n",
       "      <td>70.929</td>\n",
       "      <td>West Bank and Gaza</td>\n",
       "    </tr>\n",
       "    <tr>\n",
       "      <th>185</th>\n",
       "      <td>60.404</td>\n",
       "      <td>Yemen, Rep.</td>\n",
       "    </tr>\n",
       "    <tr>\n",
       "      <th>186</th>\n",
       "      <td>41.802</td>\n",
       "      <td>Zambia</td>\n",
       "    </tr>\n",
       "    <tr>\n",
       "      <th>187</th>\n",
       "      <td>43.976</td>\n",
       "      <td>Zimbabwe</td>\n",
       "    </tr>\n",
       "  </tbody>\n",
       "</table>\n",
       "<p>188 rows × 2 columns</p>\n",
       "</div>"
      ],
      "text/plain": [
       "     life_expectancy              country\n",
       "0             54.863          Afghanistan\n",
       "1             74.200              Albania\n",
       "2             68.963              Algeria\n",
       "3             45.234               Angola\n",
       "4             73.544  Antigua and Barbuda\n",
       "..               ...                  ...\n",
       "183           73.777              Vietnam\n",
       "184           70.929   West Bank and Gaza\n",
       "185           60.404          Yemen, Rep.\n",
       "186           41.802               Zambia\n",
       "187           43.976             Zimbabwe\n",
       "\n",
       "[188 rows x 2 columns]"
      ]
     },
     "execution_count": 28,
     "metadata": {},
     "output_type": "execute_result"
    }
   ],
   "source": [
    "df [['life_expectancy', 'country']]"
   ]
  },
  {
   "cell_type": "code",
   "execution_count": 29,
   "id": "7b12f554-4629-475c-8556-0b7d828d8363",
   "metadata": {},
   "outputs": [
    {
     "data": {
      "text/html": [
       "<div>\n",
       "<style scoped>\n",
       "    .dataframe tbody tr th:only-of-type {\n",
       "        vertical-align: middle;\n",
       "    }\n",
       "\n",
       "    .dataframe tbody tr th {\n",
       "        vertical-align: top;\n",
       "    }\n",
       "\n",
       "    .dataframe thead th {\n",
       "        text-align: right;\n",
       "    }\n",
       "</style>\n",
       "<table border=\"1\" class=\"dataframe\">\n",
       "  <thead>\n",
       "    <tr style=\"text-align: right;\">\n",
       "      <th></th>\n",
       "      <th>country</th>\n",
       "      <th>continent</th>\n",
       "      <th>life_expectancy</th>\n",
       "      <th>population</th>\n",
       "      <th>gdp</th>\n",
       "    </tr>\n",
       "  </thead>\n",
       "  <tbody>\n",
       "    <tr>\n",
       "      <th>147</th>\n",
       "      <td>Sierra Leone</td>\n",
       "      <td>Africa</td>\n",
       "      <td>38.123</td>\n",
       "      <td>4143115</td>\n",
       "      <td>2141990455</td>\n",
       "    </tr>\n",
       "    <tr>\n",
       "      <th>186</th>\n",
       "      <td>Zambia</td>\n",
       "      <td>Africa</td>\n",
       "      <td>41.802</td>\n",
       "      <td>10201562</td>\n",
       "      <td>10558616670</td>\n",
       "    </tr>\n",
       "    <tr>\n",
       "      <th>31</th>\n",
       "      <td>Central African Rep.</td>\n",
       "      <td>Africa</td>\n",
       "      <td>43.727</td>\n",
       "      <td>3701607</td>\n",
       "      <td>2820624534</td>\n",
       "    </tr>\n",
       "    <tr>\n",
       "      <th>187</th>\n",
       "      <td>Zimbabwe</td>\n",
       "      <td>Africa</td>\n",
       "      <td>43.976</td>\n",
       "      <td>12509477</td>\n",
       "      <td>9319560365</td>\n",
       "    </tr>\n",
       "    <tr>\n",
       "      <th>3</th>\n",
       "      <td>Angola</td>\n",
       "      <td>Africa</td>\n",
       "      <td>45.234</td>\n",
       "      <td>13926373</td>\n",
       "      <td>34063908358</td>\n",
       "    </tr>\n",
       "  </tbody>\n",
       "</table>\n",
       "</div>"
      ],
      "text/plain": [
       "                  country continent  life_expectancy  population          gdp\n",
       "147          Sierra Leone    Africa           38.123     4143115   2141990455\n",
       "186                Zambia    Africa           41.802    10201562  10558616670\n",
       "31   Central African Rep.    Africa           43.727     3701607   2820624534\n",
       "187              Zimbabwe    Africa           43.976    12509477   9319560365\n",
       "3                  Angola    Africa           45.234    13926373  34063908358"
      ]
     },
     "execution_count": 29,
     "metadata": {},
     "output_type": "execute_result"
    }
   ],
   "source": [
    "df.sort_values('life_expectancy').head()"
   ]
  },
  {
   "cell_type": "code",
   "execution_count": 30,
   "id": "0503a496-be6f-4ee7-8b15-b03badd74d75",
   "metadata": {},
   "outputs": [
    {
     "data": {
      "text/html": [
       "<div>\n",
       "<style scoped>\n",
       "    .dataframe tbody tr th:only-of-type {\n",
       "        vertical-align: middle;\n",
       "    }\n",
       "\n",
       "    .dataframe tbody tr th {\n",
       "        vertical-align: top;\n",
       "    }\n",
       "\n",
       "    .dataframe thead th {\n",
       "        text-align: right;\n",
       "    }\n",
       "</style>\n",
       "<table border=\"1\" class=\"dataframe\">\n",
       "  <thead>\n",
       "    <tr style=\"text-align: right;\">\n",
       "      <th></th>\n",
       "      <th>country</th>\n",
       "      <th>continent</th>\n",
       "      <th>life_expectancy</th>\n",
       "      <th>population</th>\n",
       "      <th>gdp</th>\n",
       "    </tr>\n",
       "  </thead>\n",
       "  <tbody>\n",
       "    <tr>\n",
       "      <th>147</th>\n",
       "      <td>Sierra Leone</td>\n",
       "      <td>Africa</td>\n",
       "      <td>38.123</td>\n",
       "      <td>4143115</td>\n",
       "      <td>2141990455</td>\n",
       "    </tr>\n",
       "    <tr>\n",
       "      <th>186</th>\n",
       "      <td>Zambia</td>\n",
       "      <td>Africa</td>\n",
       "      <td>41.802</td>\n",
       "      <td>10201562</td>\n",
       "      <td>10558616670</td>\n",
       "    </tr>\n",
       "    <tr>\n",
       "      <th>31</th>\n",
       "      <td>Central African Rep.</td>\n",
       "      <td>Africa</td>\n",
       "      <td>43.727</td>\n",
       "      <td>3701607</td>\n",
       "      <td>2820624534</td>\n",
       "    </tr>\n",
       "    <tr>\n",
       "      <th>187</th>\n",
       "      <td>Zimbabwe</td>\n",
       "      <td>Africa</td>\n",
       "      <td>43.976</td>\n",
       "      <td>12509477</td>\n",
       "      <td>9319560365</td>\n",
       "    </tr>\n",
       "    <tr>\n",
       "      <th>3</th>\n",
       "      <td>Angola</td>\n",
       "      <td>Africa</td>\n",
       "      <td>45.234</td>\n",
       "      <td>13926373</td>\n",
       "      <td>34063908358</td>\n",
       "    </tr>\n",
       "  </tbody>\n",
       "</table>\n",
       "</div>"
      ],
      "text/plain": [
       "                  country continent  life_expectancy  population          gdp\n",
       "147          Sierra Leone    Africa           38.123     4143115   2141990455\n",
       "186                Zambia    Africa           41.802    10201562  10558616670\n",
       "31   Central African Rep.    Africa           43.727     3701607   2820624534\n",
       "187              Zimbabwe    Africa           43.976    12509477   9319560365\n",
       "3                  Angola    Africa           45.234    13926373  34063908358"
      ]
     },
     "execution_count": 30,
     "metadata": {},
     "output_type": "execute_result"
    }
   ],
   "source": [
    "df.sort_values('life_expectancy').head().tail()"
   ]
  },
  {
   "cell_type": "code",
   "execution_count": 37,
   "id": "371542d5-1fcd-4348-a8ae-9eedc946646f",
   "metadata": {},
   "outputs": [
    {
     "data": {
      "text/plain": [
       "66.50153603526596"
      ]
     },
     "execution_count": 37,
     "metadata": {},
     "output_type": "execute_result"
    }
   ],
   "source": [
    "df['life_expectancy'].mean()"
   ]
  },
  {
   "cell_type": "code",
   "execution_count": 38,
   "id": "d0196be5-cec4-447f-94e8-beff5590c0cb",
   "metadata": {},
   "outputs": [
    {
     "data": {
      "text/plain": [
       "70.04150000000001"
      ]
     },
     "execution_count": 38,
     "metadata": {},
     "output_type": "execute_result"
    }
   ],
   "source": [
    "df['life_expectancy'].median()"
   ]
  },
  {
   "cell_type": "code",
   "execution_count": 40,
   "id": "9c488895-d0ec-49a0-9fc5-49b9e27d5b9c",
   "metadata": {},
   "outputs": [
    {
     "data": {
      "text/plain": [
       "count    188.000000\n",
       "mean      66.501536\n",
       "std       10.298458\n",
       "min       38.123000\n",
       "25%       59.663750\n",
       "50%       70.041500\n",
       "75%       74.134500\n",
       "max       81.350000\n",
       "Name: life_expectancy, dtype: float64"
      ]
     },
     "execution_count": 40,
     "metadata": {},
     "output_type": "execute_result"
    }
   ],
   "source": [
    "df['life_expectancy'].describe()"
   ]
  },
  {
   "cell_type": "code",
   "execution_count": 41,
   "id": "4a7c117f-1369-470e-8390-1a2078f37a07",
   "metadata": {},
   "outputs": [
    {
     "data": {
      "text/html": [
       "<div>\n",
       "<style scoped>\n",
       "    .dataframe tbody tr th:only-of-type {\n",
       "        vertical-align: middle;\n",
       "    }\n",
       "\n",
       "    .dataframe tbody tr th {\n",
       "        vertical-align: top;\n",
       "    }\n",
       "\n",
       "    .dataframe thead th {\n",
       "        text-align: right;\n",
       "    }\n",
       "</style>\n",
       "<table border=\"1\" class=\"dataframe\">\n",
       "  <thead>\n",
       "    <tr style=\"text-align: right;\">\n",
       "      <th></th>\n",
       "      <th>life_expectancy</th>\n",
       "      <th>gdp</th>\n",
       "    </tr>\n",
       "  </thead>\n",
       "  <tbody>\n",
       "    <tr>\n",
       "      <th>life_expectancy</th>\n",
       "      <td>1.000000</td>\n",
       "      <td>0.209858</td>\n",
       "    </tr>\n",
       "    <tr>\n",
       "      <th>gdp</th>\n",
       "      <td>0.209858</td>\n",
       "      <td>1.000000</td>\n",
       "    </tr>\n",
       "  </tbody>\n",
       "</table>\n",
       "</div>"
      ],
      "text/plain": [
       "                 life_expectancy       gdp\n",
       "life_expectancy         1.000000  0.209858\n",
       "gdp                     0.209858  1.000000"
      ]
     },
     "execution_count": 41,
     "metadata": {},
     "output_type": "execute_result"
    }
   ],
   "source": [
    "df[['life_expectancy', 'gdp']].corr()"
   ]
  },
  {
   "cell_type": "code",
   "execution_count": 45,
   "id": "2142a381-1a57-4cb5-b5c2-5ffb20898269",
   "metadata": {},
   "outputs": [],
   "source": [
    "df['gdp_per_capita'] = df['gdp'] / df['population']"
   ]
  },
  {
   "cell_type": "code",
   "execution_count": 47,
   "id": "457ed144-1540-41b5-bb91-0aec522491c6",
   "metadata": {},
   "outputs": [
    {
     "data": {
      "text/plain": [
       "continent\n",
       "Africa        52.1025\n",
       "Asia          70.4275\n",
       "Europe        75.5800\n",
       "N. America    70.5765\n",
       "Oceania       67.4955\n",
       "S. America    70.7660\n",
       "Name: life_expectancy, dtype: float64"
      ]
     },
     "execution_count": 47,
     "metadata": {},
     "output_type": "execute_result"
    }
   ],
   "source": [
    "df.groupby('continent') ['life_expectancy'].median()"
   ]
  },
  {
   "cell_type": "code",
   "execution_count": 48,
   "id": "e667ab53-3fca-4ae0-9885-94deb9734d6c",
   "metadata": {},
   "outputs": [
    {
     "data": {
      "text/plain": [
       "continent\n",
       "Africa        54\n",
       "Asia          48\n",
       "Europe        42\n",
       "N. America    22\n",
       "S. America    12\n",
       "Oceania       10\n",
       "Name: count, dtype: int64"
      ]
     },
     "execution_count": 48,
     "metadata": {},
     "output_type": "execute_result"
    }
   ],
   "source": [
    "df['continent'].value_counts()"
   ]
  },
  {
   "cell_type": "code",
   "execution_count": 49,
   "id": "428ea006-d8e5-435b-a9da-e37eb9d3576a",
   "metadata": {},
   "outputs": [
    {
     "ename": "AttributeError",
     "evalue": "'Series' object has no attribute 'counts'",
     "output_type": "error",
     "traceback": [
      "\u001b[0;31m---------------------------------------------------------------------------\u001b[0m",
      "\u001b[0;31mAttributeError\u001b[0m                            Traceback (most recent call last)",
      "\u001b[0;32m/var/folders/b2/n6rvd0d97ddf5kgr43mlq2vh0000gn/T/ipykernel_27494/3651694554.py\u001b[0m in \u001b[0;36m?\u001b[0;34m()\u001b[0m\n\u001b[0;32m----> 1\u001b[0;31m \u001b[0mdf\u001b[0m\u001b[0;34m[\u001b[0m\u001b[0;34m'continent'\u001b[0m\u001b[0;34m]\u001b[0m\u001b[0;34m.\u001b[0m\u001b[0mcounts\u001b[0m\u001b[0;34m(\u001b[0m\u001b[0;34m)\u001b[0m\u001b[0;34m\u001b[0m\u001b[0;34m\u001b[0m\u001b[0m\n\u001b[0m",
      "\u001b[0;32m~/.pyenv/versions/3.11.8/lib/python3.11/site-packages/pandas/core/generic.py\u001b[0m in \u001b[0;36m?\u001b[0;34m(self, name)\u001b[0m\n\u001b[1;32m   6295\u001b[0m             \u001b[0;32mand\u001b[0m \u001b[0mname\u001b[0m \u001b[0;32mnot\u001b[0m \u001b[0;32min\u001b[0m \u001b[0mself\u001b[0m\u001b[0;34m.\u001b[0m\u001b[0m_accessors\u001b[0m\u001b[0;34m\u001b[0m\u001b[0;34m\u001b[0m\u001b[0m\n\u001b[1;32m   6296\u001b[0m             \u001b[0;32mand\u001b[0m \u001b[0mself\u001b[0m\u001b[0;34m.\u001b[0m\u001b[0m_info_axis\u001b[0m\u001b[0;34m.\u001b[0m\u001b[0m_can_hold_identifiers_and_holds_name\u001b[0m\u001b[0;34m(\u001b[0m\u001b[0mname\u001b[0m\u001b[0;34m)\u001b[0m\u001b[0;34m\u001b[0m\u001b[0;34m\u001b[0m\u001b[0m\n\u001b[1;32m   6297\u001b[0m         ):\n\u001b[1;32m   6298\u001b[0m             \u001b[0;32mreturn\u001b[0m \u001b[0mself\u001b[0m\u001b[0;34m[\u001b[0m\u001b[0mname\u001b[0m\u001b[0;34m]\u001b[0m\u001b[0;34m\u001b[0m\u001b[0;34m\u001b[0m\u001b[0m\n\u001b[0;32m-> 6299\u001b[0;31m         \u001b[0;32mreturn\u001b[0m \u001b[0mobject\u001b[0m\u001b[0;34m.\u001b[0m\u001b[0m__getattribute__\u001b[0m\u001b[0;34m(\u001b[0m\u001b[0mself\u001b[0m\u001b[0;34m,\u001b[0m \u001b[0mname\u001b[0m\u001b[0;34m)\u001b[0m\u001b[0;34m\u001b[0m\u001b[0;34m\u001b[0m\u001b[0m\n\u001b[0m",
      "\u001b[0;31mAttributeError\u001b[0m: 'Series' object has no attribute 'counts'"
     ]
    }
   ],
   "source": [
    "df['continent'].counts()"
   ]
  },
  {
   "cell_type": "code",
   "execution_count": 50,
   "id": "7611b68b-70a0-4c9a-be15-501619a03bec",
   "metadata": {},
   "outputs": [
    {
     "data": {
      "text/plain": [
       "188"
      ]
     },
     "execution_count": 50,
     "metadata": {},
     "output_type": "execute_result"
    }
   ],
   "source": [
    "df['continent'].count()"
   ]
  },
  {
   "cell_type": "code",
   "execution_count": 59,
   "id": "fff9d6b0-126b-4e84-b30c-5ef57cc954b2",
   "metadata": {},
   "outputs": [
    {
     "ename": "SyntaxError",
     "evalue": "invalid syntax (4116737296.py, line 2)",
     "output_type": "error",
     "traceback": [
      "\u001b[0;36m  Cell \u001b[0;32mIn[59], line 2\u001b[0;36m\u001b[0m\n\u001b[0;31m    url = https://www.theguardian.com/football/laligafootball/table\u001b[0m\n\u001b[0m               ^\u001b[0m\n\u001b[0;31mSyntaxError\u001b[0m\u001b[0;31m:\u001b[0m invalid syntax\n"
     ]
    }
   ],
   "source": [
    "df = pd.read_html \n",
    "url = https://www.theguardian.com/football/laligafootball/table\n"
   ]
  },
  {
   "cell_type": "code",
   "execution_count": 55,
   "id": "301eed5c-c244-4d2b-a680-9ced0da5c71a",
   "metadata": {},
   "outputs": [
    {
     "data": {
      "text/plain": [
       "[     P            Team  GP   W   D   L   F   A  GD  Pts  \\\n",
       " 0    1     Real Madrid  38  29   8   1  87  26  61   95   \n",
       " 1    2       Barcelona  38  26   7   5  79  44  35   85   \n",
       " 2    3          Girona  38  25   6   7  85  46  39   81   \n",
       " 3    4        Atlético  38  24   4  10  70  43  27   76   \n",
       " 4    5        A Bilbao  38  19  11   8  61  37  24   68   \n",
       " 5    6   Real Sociedad  38  16  12  10  51  39  12   60   \n",
       " 6    7      Real Betis  38  14  15   9  48  45   3   57   \n",
       " 7    8      Villarreal  38  14  11  13  65  65   0   53   \n",
       " 8    9        Valencia  38  13  10  15  40  45  -5   49   \n",
       " 9   10          Alaves  38  12  10  16  36  46 -10   46   \n",
       " 10  11         Osasuna  38  12   9  17  45  56 -11   45   \n",
       " 11  12          Getafe  38  10  13  15  42  54 -12   43   \n",
       " 12  13      Celta Vigo  38  10  11  17  46  57 -11   41   \n",
       " 13  14         Sevilla  38  10  11  17  48  54  -6   41   \n",
       " 14  15        Mallorca  38   8  16  14  33  44 -11   40   \n",
       " 15  16      Las Palmas  38  10  10  18  33  47 -14   40   \n",
       " 16  17  Rayo Vallecano  38   8  14  16  29  48 -19   38   \n",
       " 17  18           Cadiz  38   6  15  17  26  55 -29   33   \n",
       " 18  19         Almeria  38   3  12  23  43  75 -32   21   \n",
       " 19  20         Granada  38   4   9  25  38  79 -41   21   \n",
       " \n",
       "                                                  Form  \n",
       " 0   Won 3-0 against Cadiz  Won 4-0 against Granada...  \n",
       " 1   Lost 2-4 to Girona  Won 2-0 against Real Socie...  \n",
       " 2   Won 4-2 against Barcelona  Drew 2-2 with Alave...  \n",
       " 3   Won 1-0 against Mallorca  Won 1-0 against Celt...  \n",
       " 4   Won 2-0 against Getafe  Drew 2-2 with Osasuna ...  \n",
       " 5   Won 2-0 against Las Palmas  Lost 0-2 to Barcel...  \n",
       " 6   Won 2-0 against Osasuna  Won 3-2 against Almer...  \n",
       " 7   Lost 2-3 to Celta Vigo  Won 3-2 against Sevill...  \n",
       " 8   Lost 0-1 to Alaves  Drew 0-0 with Rayo Valleca...  \n",
       " 9   Won 1-0 against Valencia  Drew 2-2 with Girona...  \n",
       " 10  Lost 0-2 to Real Betis  Drew 2-2 with A Bilbao...  \n",
       " 11  Lost 0-2 to A Bilbao  Lost 0-1 to Cadiz  Lost ...  \n",
       " 12  Won 3-2 against Villarreal  Lost 0-1 to Atléti...  \n",
       " 13  Won 3-0 against Granada  Lost 2-3 to Villarrea...  \n",
       " 14  Lost 0-1 to Atlético  Won 1-0 against Las Palm...  \n",
       " 15  Lost 0-2 to Real Sociedad  Lost 0-1 to Mallorc...  \n",
       " 16  Lost 0-1 to Almeria  Drew 0-0 with Valencia  W...  \n",
       " 17  Lost 0-3 to Real Madrid  Won 1-0 against Getaf...  \n",
       " 18  Won 1-0 against Rayo Vallecano  Lost 2-3 to Re...  \n",
       " 19  Lost 0-3 to Sevilla  Lost 0-4 to Real Madrid  ...  ]"
      ]
     },
     "execution_count": 55,
     "metadata": {},
     "output_type": "execute_result"
    }
   ],
   "source": [
    "pd.read_html(url)"
   ]
  },
  {
   "cell_type": "code",
   "execution_count": 56,
   "id": "24d84a39-d4f6-434a-9109-80f72c151be1",
   "metadata": {},
   "outputs": [
    {
     "ename": "NameError",
     "evalue": "name 'tables' is not defined",
     "output_type": "error",
     "traceback": [
      "\u001b[0;31m---------------------------------------------------------------------------\u001b[0m",
      "\u001b[0;31mNameError\u001b[0m                                 Traceback (most recent call last)",
      "Cell \u001b[0;32mIn[56], line 1\u001b[0m\n\u001b[0;32m----> 1\u001b[0m \u001b[38;5;28mlen\u001b[39m(\u001b[43mtables\u001b[49m)\n",
      "\u001b[0;31mNameError\u001b[0m: name 'tables' is not defined"
     ]
    }
   ],
   "source": [
    "len(tables)"
   ]
  },
  {
   "cell_type": "code",
   "execution_count": 60,
   "id": "845f5803-bfe1-4969-8ad0-13927b36fb31",
   "metadata": {},
   "outputs": [
    {
     "name": "stdout",
     "output_type": "stream",
     "text": [
      "Requirement already satisfied: lxml in /Users/jakerosenwasser/.pyenv/versions/3.11.8/lib/python3.11/site-packages (4.9.4)\n"
     ]
    }
   ],
   "source": [
    "!pip install lxml"
   ]
  },
  {
   "cell_type": "code",
   "execution_count": 61,
   "id": "32c30f7a-1980-48e2-8292-1ba2c3d8a5e3",
   "metadata": {},
   "outputs": [
    {
     "data": {
      "text/plain": [
       "1"
      ]
     },
     "execution_count": 61,
     "metadata": {},
     "output_type": "execute_result"
    }
   ],
   "source": [
    "\n",
    "url = \"https://www.theguardian.com/football/laligafootball/table\"\n",
    "tables = pd.read_html(url)\n",
    "len(tables)\n"
   ]
  },
  {
   "cell_type": "code",
   "execution_count": 62,
   "id": "0c7e0eaa-8198-4719-bc10-a1672b46cad8",
   "metadata": {},
   "outputs": [
    {
     "data": {
      "text/html": [
       "<div>\n",
       "<style scoped>\n",
       "    .dataframe tbody tr th:only-of-type {\n",
       "        vertical-align: middle;\n",
       "    }\n",
       "\n",
       "    .dataframe tbody tr th {\n",
       "        vertical-align: top;\n",
       "    }\n",
       "\n",
       "    .dataframe thead th {\n",
       "        text-align: right;\n",
       "    }\n",
       "</style>\n",
       "<table border=\"1\" class=\"dataframe\">\n",
       "  <thead>\n",
       "    <tr style=\"text-align: right;\">\n",
       "      <th></th>\n",
       "      <th>P</th>\n",
       "      <th>Team</th>\n",
       "      <th>GP</th>\n",
       "      <th>W</th>\n",
       "      <th>D</th>\n",
       "      <th>L</th>\n",
       "      <th>F</th>\n",
       "      <th>A</th>\n",
       "      <th>GD</th>\n",
       "      <th>Pts</th>\n",
       "      <th>Form</th>\n",
       "    </tr>\n",
       "  </thead>\n",
       "  <tbody>\n",
       "    <tr>\n",
       "      <th>0</th>\n",
       "      <td>1</td>\n",
       "      <td>Real Madrid</td>\n",
       "      <td>38</td>\n",
       "      <td>29</td>\n",
       "      <td>8</td>\n",
       "      <td>1</td>\n",
       "      <td>87</td>\n",
       "      <td>26</td>\n",
       "      <td>61</td>\n",
       "      <td>95</td>\n",
       "      <td>Won 3-0 against Cadiz  Won 4-0 against Granada...</td>\n",
       "    </tr>\n",
       "    <tr>\n",
       "      <th>1</th>\n",
       "      <td>2</td>\n",
       "      <td>Barcelona</td>\n",
       "      <td>38</td>\n",
       "      <td>26</td>\n",
       "      <td>7</td>\n",
       "      <td>5</td>\n",
       "      <td>79</td>\n",
       "      <td>44</td>\n",
       "      <td>35</td>\n",
       "      <td>85</td>\n",
       "      <td>Lost 2-4 to Girona  Won 2-0 against Real Socie...</td>\n",
       "    </tr>\n",
       "    <tr>\n",
       "      <th>2</th>\n",
       "      <td>3</td>\n",
       "      <td>Girona</td>\n",
       "      <td>38</td>\n",
       "      <td>25</td>\n",
       "      <td>6</td>\n",
       "      <td>7</td>\n",
       "      <td>85</td>\n",
       "      <td>46</td>\n",
       "      <td>39</td>\n",
       "      <td>81</td>\n",
       "      <td>Won 4-2 against Barcelona  Drew 2-2 with Alave...</td>\n",
       "    </tr>\n",
       "    <tr>\n",
       "      <th>3</th>\n",
       "      <td>4</td>\n",
       "      <td>Atlético</td>\n",
       "      <td>38</td>\n",
       "      <td>24</td>\n",
       "      <td>4</td>\n",
       "      <td>10</td>\n",
       "      <td>70</td>\n",
       "      <td>43</td>\n",
       "      <td>27</td>\n",
       "      <td>76</td>\n",
       "      <td>Won 1-0 against Mallorca  Won 1-0 against Celt...</td>\n",
       "    </tr>\n",
       "    <tr>\n",
       "      <th>4</th>\n",
       "      <td>5</td>\n",
       "      <td>A Bilbao</td>\n",
       "      <td>38</td>\n",
       "      <td>19</td>\n",
       "      <td>11</td>\n",
       "      <td>8</td>\n",
       "      <td>61</td>\n",
       "      <td>37</td>\n",
       "      <td>24</td>\n",
       "      <td>68</td>\n",
       "      <td>Won 2-0 against Getafe  Drew 2-2 with Osasuna ...</td>\n",
       "    </tr>\n",
       "    <tr>\n",
       "      <th>5</th>\n",
       "      <td>6</td>\n",
       "      <td>Real Sociedad</td>\n",
       "      <td>38</td>\n",
       "      <td>16</td>\n",
       "      <td>12</td>\n",
       "      <td>10</td>\n",
       "      <td>51</td>\n",
       "      <td>39</td>\n",
       "      <td>12</td>\n",
       "      <td>60</td>\n",
       "      <td>Won 2-0 against Las Palmas  Lost 0-2 to Barcel...</td>\n",
       "    </tr>\n",
       "    <tr>\n",
       "      <th>6</th>\n",
       "      <td>7</td>\n",
       "      <td>Real Betis</td>\n",
       "      <td>38</td>\n",
       "      <td>14</td>\n",
       "      <td>15</td>\n",
       "      <td>9</td>\n",
       "      <td>48</td>\n",
       "      <td>45</td>\n",
       "      <td>3</td>\n",
       "      <td>57</td>\n",
       "      <td>Won 2-0 against Osasuna  Won 3-2 against Almer...</td>\n",
       "    </tr>\n",
       "    <tr>\n",
       "      <th>7</th>\n",
       "      <td>8</td>\n",
       "      <td>Villarreal</td>\n",
       "      <td>38</td>\n",
       "      <td>14</td>\n",
       "      <td>11</td>\n",
       "      <td>13</td>\n",
       "      <td>65</td>\n",
       "      <td>65</td>\n",
       "      <td>0</td>\n",
       "      <td>53</td>\n",
       "      <td>Lost 2-3 to Celta Vigo  Won 3-2 against Sevill...</td>\n",
       "    </tr>\n",
       "    <tr>\n",
       "      <th>8</th>\n",
       "      <td>9</td>\n",
       "      <td>Valencia</td>\n",
       "      <td>38</td>\n",
       "      <td>13</td>\n",
       "      <td>10</td>\n",
       "      <td>15</td>\n",
       "      <td>40</td>\n",
       "      <td>45</td>\n",
       "      <td>-5</td>\n",
       "      <td>49</td>\n",
       "      <td>Lost 0-1 to Alaves  Drew 0-0 with Rayo Valleca...</td>\n",
       "    </tr>\n",
       "    <tr>\n",
       "      <th>9</th>\n",
       "      <td>10</td>\n",
       "      <td>Alaves</td>\n",
       "      <td>38</td>\n",
       "      <td>12</td>\n",
       "      <td>10</td>\n",
       "      <td>16</td>\n",
       "      <td>36</td>\n",
       "      <td>46</td>\n",
       "      <td>-10</td>\n",
       "      <td>46</td>\n",
       "      <td>Won 1-0 against Valencia  Drew 2-2 with Girona...</td>\n",
       "    </tr>\n",
       "    <tr>\n",
       "      <th>10</th>\n",
       "      <td>11</td>\n",
       "      <td>Osasuna</td>\n",
       "      <td>38</td>\n",
       "      <td>12</td>\n",
       "      <td>9</td>\n",
       "      <td>17</td>\n",
       "      <td>45</td>\n",
       "      <td>56</td>\n",
       "      <td>-11</td>\n",
       "      <td>45</td>\n",
       "      <td>Lost 0-2 to Real Betis  Drew 2-2 with A Bilbao...</td>\n",
       "    </tr>\n",
       "    <tr>\n",
       "      <th>11</th>\n",
       "      <td>12</td>\n",
       "      <td>Getafe</td>\n",
       "      <td>38</td>\n",
       "      <td>10</td>\n",
       "      <td>13</td>\n",
       "      <td>15</td>\n",
       "      <td>42</td>\n",
       "      <td>54</td>\n",
       "      <td>-12</td>\n",
       "      <td>43</td>\n",
       "      <td>Lost 0-2 to A Bilbao  Lost 0-1 to Cadiz  Lost ...</td>\n",
       "    </tr>\n",
       "    <tr>\n",
       "      <th>12</th>\n",
       "      <td>13</td>\n",
       "      <td>Celta Vigo</td>\n",
       "      <td>38</td>\n",
       "      <td>10</td>\n",
       "      <td>11</td>\n",
       "      <td>17</td>\n",
       "      <td>46</td>\n",
       "      <td>57</td>\n",
       "      <td>-11</td>\n",
       "      <td>41</td>\n",
       "      <td>Won 3-2 against Villarreal  Lost 0-1 to Atléti...</td>\n",
       "    </tr>\n",
       "    <tr>\n",
       "      <th>13</th>\n",
       "      <td>14</td>\n",
       "      <td>Sevilla</td>\n",
       "      <td>38</td>\n",
       "      <td>10</td>\n",
       "      <td>11</td>\n",
       "      <td>17</td>\n",
       "      <td>48</td>\n",
       "      <td>54</td>\n",
       "      <td>-6</td>\n",
       "      <td>41</td>\n",
       "      <td>Won 3-0 against Granada  Lost 2-3 to Villarrea...</td>\n",
       "    </tr>\n",
       "    <tr>\n",
       "      <th>14</th>\n",
       "      <td>15</td>\n",
       "      <td>Mallorca</td>\n",
       "      <td>38</td>\n",
       "      <td>8</td>\n",
       "      <td>16</td>\n",
       "      <td>14</td>\n",
       "      <td>33</td>\n",
       "      <td>44</td>\n",
       "      <td>-11</td>\n",
       "      <td>40</td>\n",
       "      <td>Lost 0-1 to Atlético  Won 1-0 against Las Palm...</td>\n",
       "    </tr>\n",
       "    <tr>\n",
       "      <th>15</th>\n",
       "      <td>16</td>\n",
       "      <td>Las Palmas</td>\n",
       "      <td>38</td>\n",
       "      <td>10</td>\n",
       "      <td>10</td>\n",
       "      <td>18</td>\n",
       "      <td>33</td>\n",
       "      <td>47</td>\n",
       "      <td>-14</td>\n",
       "      <td>40</td>\n",
       "      <td>Lost 0-2 to Real Sociedad  Lost 0-1 to Mallorc...</td>\n",
       "    </tr>\n",
       "    <tr>\n",
       "      <th>16</th>\n",
       "      <td>17</td>\n",
       "      <td>Rayo Vallecano</td>\n",
       "      <td>38</td>\n",
       "      <td>8</td>\n",
       "      <td>14</td>\n",
       "      <td>16</td>\n",
       "      <td>29</td>\n",
       "      <td>48</td>\n",
       "      <td>-19</td>\n",
       "      <td>38</td>\n",
       "      <td>Lost 0-1 to Almeria  Drew 0-0 with Valencia  W...</td>\n",
       "    </tr>\n",
       "    <tr>\n",
       "      <th>17</th>\n",
       "      <td>18</td>\n",
       "      <td>Cadiz</td>\n",
       "      <td>38</td>\n",
       "      <td>6</td>\n",
       "      <td>15</td>\n",
       "      <td>17</td>\n",
       "      <td>26</td>\n",
       "      <td>55</td>\n",
       "      <td>-29</td>\n",
       "      <td>33</td>\n",
       "      <td>Lost 0-3 to Real Madrid  Won 1-0 against Getaf...</td>\n",
       "    </tr>\n",
       "    <tr>\n",
       "      <th>18</th>\n",
       "      <td>19</td>\n",
       "      <td>Almeria</td>\n",
       "      <td>38</td>\n",
       "      <td>3</td>\n",
       "      <td>12</td>\n",
       "      <td>23</td>\n",
       "      <td>43</td>\n",
       "      <td>75</td>\n",
       "      <td>-32</td>\n",
       "      <td>21</td>\n",
       "      <td>Won 1-0 against Rayo Vallecano  Lost 2-3 to Re...</td>\n",
       "    </tr>\n",
       "    <tr>\n",
       "      <th>19</th>\n",
       "      <td>20</td>\n",
       "      <td>Granada</td>\n",
       "      <td>38</td>\n",
       "      <td>4</td>\n",
       "      <td>9</td>\n",
       "      <td>25</td>\n",
       "      <td>38</td>\n",
       "      <td>79</td>\n",
       "      <td>-41</td>\n",
       "      <td>21</td>\n",
       "      <td>Lost 0-3 to Sevilla  Lost 0-4 to Real Madrid  ...</td>\n",
       "    </tr>\n",
       "  </tbody>\n",
       "</table>\n",
       "</div>"
      ],
      "text/plain": [
       "     P            Team  GP   W   D   L   F   A  GD  Pts  \\\n",
       "0    1     Real Madrid  38  29   8   1  87  26  61   95   \n",
       "1    2       Barcelona  38  26   7   5  79  44  35   85   \n",
       "2    3          Girona  38  25   6   7  85  46  39   81   \n",
       "3    4        Atlético  38  24   4  10  70  43  27   76   \n",
       "4    5        A Bilbao  38  19  11   8  61  37  24   68   \n",
       "5    6   Real Sociedad  38  16  12  10  51  39  12   60   \n",
       "6    7      Real Betis  38  14  15   9  48  45   3   57   \n",
       "7    8      Villarreal  38  14  11  13  65  65   0   53   \n",
       "8    9        Valencia  38  13  10  15  40  45  -5   49   \n",
       "9   10          Alaves  38  12  10  16  36  46 -10   46   \n",
       "10  11         Osasuna  38  12   9  17  45  56 -11   45   \n",
       "11  12          Getafe  38  10  13  15  42  54 -12   43   \n",
       "12  13      Celta Vigo  38  10  11  17  46  57 -11   41   \n",
       "13  14         Sevilla  38  10  11  17  48  54  -6   41   \n",
       "14  15        Mallorca  38   8  16  14  33  44 -11   40   \n",
       "15  16      Las Palmas  38  10  10  18  33  47 -14   40   \n",
       "16  17  Rayo Vallecano  38   8  14  16  29  48 -19   38   \n",
       "17  18           Cadiz  38   6  15  17  26  55 -29   33   \n",
       "18  19         Almeria  38   3  12  23  43  75 -32   21   \n",
       "19  20         Granada  38   4   9  25  38  79 -41   21   \n",
       "\n",
       "                                                 Form  \n",
       "0   Won 3-0 against Cadiz  Won 4-0 against Granada...  \n",
       "1   Lost 2-4 to Girona  Won 2-0 against Real Socie...  \n",
       "2   Won 4-2 against Barcelona  Drew 2-2 with Alave...  \n",
       "3   Won 1-0 against Mallorca  Won 1-0 against Celt...  \n",
       "4   Won 2-0 against Getafe  Drew 2-2 with Osasuna ...  \n",
       "5   Won 2-0 against Las Palmas  Lost 0-2 to Barcel...  \n",
       "6   Won 2-0 against Osasuna  Won 3-2 against Almer...  \n",
       "7   Lost 2-3 to Celta Vigo  Won 3-2 against Sevill...  \n",
       "8   Lost 0-1 to Alaves  Drew 0-0 with Rayo Valleca...  \n",
       "9   Won 1-0 against Valencia  Drew 2-2 with Girona...  \n",
       "10  Lost 0-2 to Real Betis  Drew 2-2 with A Bilbao...  \n",
       "11  Lost 0-2 to A Bilbao  Lost 0-1 to Cadiz  Lost ...  \n",
       "12  Won 3-2 against Villarreal  Lost 0-1 to Atléti...  \n",
       "13  Won 3-0 against Granada  Lost 2-3 to Villarrea...  \n",
       "14  Lost 0-1 to Atlético  Won 1-0 against Las Palm...  \n",
       "15  Lost 0-2 to Real Sociedad  Lost 0-1 to Mallorc...  \n",
       "16  Lost 0-1 to Almeria  Drew 0-0 with Valencia  W...  \n",
       "17  Lost 0-3 to Real Madrid  Won 1-0 against Getaf...  \n",
       "18  Won 1-0 against Rayo Vallecano  Lost 2-3 to Re...  \n",
       "19  Lost 0-3 to Sevilla  Lost 0-4 to Real Madrid  ...  "
      ]
     },
     "execution_count": 62,
     "metadata": {},
     "output_type": "execute_result"
    }
   ],
   "source": [
    "tables[0]"
   ]
  },
  {
   "cell_type": "code",
   "execution_count": 63,
   "id": "17b5a4b7-848e-4caf-8b2d-4e46b5a98e61",
   "metadata": {},
   "outputs": [],
   "source": [
    "df = tables[0]"
   ]
  },
  {
   "cell_type": "code",
   "execution_count": 66,
   "id": "ebb6d5b9-ffbe-4bf2-8e7d-e2ba30dacb1d",
   "metadata": {},
   "outputs": [
    {
     "data": {
      "text/plain": [
       "38.0"
      ]
     },
     "execution_count": 66,
     "metadata": {},
     "output_type": "execute_result"
    }
   ],
   "source": [
    "df['GP'].mean()"
   ]
  },
  {
   "cell_type": "code",
   "execution_count": 67,
   "id": "764dad71-da1e-4c10-b1de-5a25641ffaaf",
   "metadata": {},
   "outputs": [
    {
     "data": {
      "text/plain": [
       "38.0"
      ]
     },
     "execution_count": 67,
     "metadata": {},
     "output_type": "execute_result"
    }
   ],
   "source": [
    "df['GP'].median()"
   ]
  },
  {
   "cell_type": "code",
   "execution_count": 68,
   "id": "b43de8a0-3318-4f32-9e0e-ac952f59f159",
   "metadata": {},
   "outputs": [
    {
     "data": {
      "text/plain": [
       "0.0"
      ]
     },
     "execution_count": 68,
     "metadata": {},
     "output_type": "execute_result"
    }
   ],
   "source": [
    "df['GD'].mean()"
   ]
  },
  {
   "cell_type": "code",
   "execution_count": 69,
   "id": "e68e79dd-c2d9-47fc-b0bd-0d31d0fb8418",
   "metadata": {},
   "outputs": [],
   "source": [
    "df.to_csv(\"teams.csv\")"
   ]
  },
  {
   "cell_type": "code",
   "execution_count": 75,
   "id": "667d950e-dd6e-428a-adaa-776ff6da6415",
   "metadata": {},
   "outputs": [],
   "source": [
    "df.to_csv(\"teams.csv\", index=False)"
   ]
  },
  {
   "cell_type": "code",
   "execution_count": null,
   "id": "04267d3c-502b-49ed-8106-c6f7242ad2ac",
   "metadata": {},
   "outputs": [],
   "source": []
  },
  {
   "cell_type": "code",
   "execution_count": null,
   "id": "e6d5cb42-57b9-4af5-a4b4-f6e1ffa1c9b9",
   "metadata": {},
   "outputs": [],
   "source": []
  }
 ],
 "metadata": {
  "kernelspec": {
   "display_name": "Python 3 (ipykernel)",
   "language": "python",
   "name": "python3"
  },
  "language_info": {
   "codemirror_mode": {
    "name": "ipython",
    "version": 3
   },
   "file_extension": ".py",
   "mimetype": "text/x-python",
   "name": "python",
   "nbconvert_exporter": "python",
   "pygments_lexer": "ipython3",
   "version": "3.11.8"
  }
 },
 "nbformat": 4,
 "nbformat_minor": 5
}
